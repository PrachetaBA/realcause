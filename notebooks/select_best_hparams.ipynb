{
 "cells": [
  {
   "cell_type": "markdown",
   "metadata": {},
   "source": [
    "# Selecting the best set of hyperparameters \n",
    "\n",
    "This notebook is used to look at all the hyperparameters for a particular dataset and select the values for the best hyperparameters. The best hyperparameters have the highest average p values for both the treatment model as well as the outcome model. "
   ]
  },
  {
   "cell_type": "code",
   "execution_count": 1,
   "metadata": {},
   "outputs": [],
   "source": [
    "# Import libraries\n",
    "import os\n",
    "import sys"
   ]
  },
  {
   "cell_type": "code",
   "execution_count": 9,
   "metadata": {},
   "outputs": [],
   "source": [
    "def print_avg_pvals(hparams_folder):\n",
    "    # Go through all the folders within the HPARAMS_FOLDER, and find the file 'summary.txt' if it exists\n",
    "    for root, dirs, files in os.walk(hparams_folder):\n",
    "        if 'summary.txt' in files:\n",
    "            # Open the file and save the dictionary to a result variable\n",
    "            with open(os.path.join(root, 'summary.txt'), 'r') as f:\n",
    "                result = eval(f.read())\n",
    "            # Find the value of the 'avg_t_pval' and 'avg_y_pval' keys and print them\n",
    "            avg_t_pval = result['avg_t_pval']\n",
    "            avg_y_pval = result['avg_y_pval']\n",
    "            min_t_pval = result['min_t_pval']\n",
    "            min_y_pval = result['min_y_pval']\n",
    "            hparam_setting = root.split('/')[-1]\n",
    "            print(f'{hparam_setting}: avg_t_pval={avg_t_pval}, avg_y_pval={avg_y_pval}')  \n",
    "            # print(f'{hparam_setting}: min_t_pval={min_t_pval}, min_y_pval={min_y_pval}')\n",
    "        "
   ]
  },
  {
   "cell_type": "code",
   "execution_count": 25,
   "metadata": {},
   "outputs": [],
   "source": [
    "DATASET = 'osapo_acic_4_weight_2.5_intercept_-8.5'\n",
    "HPARAMS_FOLDER = f'../results/{DATASET}'"
   ]
  },
  {
   "cell_type": "code",
   "execution_count": 26,
   "metadata": {},
   "outputs": [
    {
     "name": "stdout",
     "output_type": "stream",
     "text": [
      "default: avg_t_pval=0.5024360760140681, avg_y_pval=0.0768204869693872\n",
      "dim_h1024-lr0.0001-batch_size128: avg_t_pval=0.5358502103245839, avg_y_pval=0.08029695379623696\n",
      "dim_h1024-lr0.01-batch_size128: avg_t_pval=0.5417790767226988, avg_y_pval=0.04033369081306436\n",
      "dim_h2048-lr0.0001-batch_size128: avg_t_pval=0.5372406533353343, avg_y_pval=0.07216605395502604\n",
      "dim_h512-lr0.0001-batch_size128: avg_t_pval=0.5400723622866934, avg_y_pval=0.2332898934052415\n",
      "dim_h512-lr0.0001-batch_size64: avg_t_pval=0.5024360760140681, avg_y_pval=0.0768204869693872\n",
      "dim_h512-lr0.001-batch_size128: avg_t_pval=0.43957863121480756, avg_y_pval=0.2162992975889428\n",
      "dim_h512-lr0.01-batch_size128: avg_t_pval=0.5366792226514129, avg_y_pval=0.07261587242088857\n"
     ]
    }
   ],
   "source": [
    "print_avg_pvals(HPARAMS_FOLDER)"
   ]
  },
  {
   "cell_type": "code",
   "execution_count": null,
   "metadata": {},
   "outputs": [],
   "source": []
  }
 ],
 "metadata": {
  "kernelspec": {
   "display_name": "Python 3",
   "language": "python",
   "name": "python3"
  },
  "language_info": {
   "codemirror_mode": {
    "name": "ipython",
    "version": 3
   },
   "file_extension": ".py",
   "mimetype": "text/x-python",
   "name": "python",
   "nbconvert_exporter": "python",
   "pygments_lexer": "ipython3",
   "version": "3.8.15"
  }
 },
 "nbformat": 4,
 "nbformat_minor": 2
}
