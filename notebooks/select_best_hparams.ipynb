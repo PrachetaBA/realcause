{
 "cells": [
  {
   "cell_type": "markdown",
   "metadata": {},
   "source": [
    "# Selecting the best set of hyperparameters \n",
    "\n",
    "This notebook is used to look at all the hyperparameters for a particular dataset and select the values for the best hyperparameters. The best hyperparameters have the highest average p values for both the treatment model as well as the outcome model. "
   ]
  },
  {
   "cell_type": "code",
   "execution_count": 1,
   "metadata": {},
   "outputs": [],
   "source": [
    "# Import libraries\n",
    "import os\n",
    "import sys"
   ]
  },
  {
   "cell_type": "code",
   "execution_count": 10,
   "metadata": {},
   "outputs": [],
   "source": [
    "# DATASET = 'osapo_acic_4_nonlinear_3cov'\n",
    "DATASET = 'acic_2019_1_linear'\n",
    "HPARAMS_FOLDER = f'../results/{DATASET}'"
   ]
  },
  {
   "cell_type": "code",
   "execution_count": 11,
   "metadata": {},
   "outputs": [],
   "source": [
    "def print_avg_pvals(hparams_folder):\n",
    "    # Go through all the folders within the HPARAMS_FOLDER, and find the file 'summary.txt' if it exists\n",
    "    for root, dirs, files in os.walk(hparams_folder):\n",
    "        if 'summary.txt' in files:\n",
    "            # Open the file and save the dictionary to a result variable\n",
    "            with open(os.path.join(root, 'summary.txt'), 'r') as f:\n",
    "                result = eval(f.read())\n",
    "            # Find the value of the 'avg_t_pval' and 'avg_y_pval' keys and print them\n",
    "            avg_t_pval = result['avg_t_pval']\n",
    "            avg_y_pval = result['avg_y_pval']\n",
    "            min_t_pval = result['min_t_pval']\n",
    "            min_y_pval = result['min_y_pval']\n",
    "            hparam_setting = root.split('/')[-1]\n",
    "            print(f'{hparam_setting}: avg_t_pval={avg_t_pval}, avg_y_pval={avg_y_pval}')  \n",
    "            # print(f'{hparam_setting}: min_t_pval={min_t_pval}, min_y_pval={min_y_pval}')\n",
    "        "
   ]
  },
  {
   "cell_type": "code",
   "execution_count": 12,
   "metadata": {},
   "outputs": [
    {
     "name": "stdout",
     "output_type": "stream",
     "text": [
      "dim_h16-lr0.01: avg_t_pval=0.4150602192682728, avg_y_pval=0.029400028401690974\n",
      "dim_h16-lr0.05: avg_t_pval=0.6299221442256435, avg_y_pval=0.019021106830184466\n",
      "dim_h32-lr0.01: avg_t_pval=0.4513926116815186, avg_y_pval=0.03759889160564459\n",
      "dim_h32-lr0.05: avg_t_pval=0.5822256144877124, avg_y_pval=0.036628558889497856\n",
      "dim_h64-lr0.01: avg_t_pval=0.6074642848676491, avg_y_pval=0.010915036124461193\n",
      "dim_h64-lr0.05: avg_t_pval=0.5618024540227684, avg_y_pval=0.02541809202251267\n"
     ]
    }
   ],
   "source": [
    "print_avg_pvals(HPARAMS_FOLDER)"
   ]
  },
  {
   "cell_type": "code",
   "execution_count": null,
   "metadata": {},
   "outputs": [],
   "source": []
  }
 ],
 "metadata": {
  "kernelspec": {
   "display_name": "Python 3",
   "language": "python",
   "name": "python3"
  },
  "language_info": {
   "codemirror_mode": {
    "name": "ipython",
    "version": 3
   },
   "file_extension": ".py",
   "mimetype": "text/x-python",
   "name": "python",
   "nbconvert_exporter": "python",
   "pygments_lexer": "ipython3",
   "version": "3.8.15"
  }
 },
 "nbformat": 4,
 "nbformat_minor": 2
}
